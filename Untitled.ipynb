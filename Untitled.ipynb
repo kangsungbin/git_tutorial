{
 "cells": [
  {
   "cell_type": "code",
   "execution_count": 9,
   "metadata": {},
   "outputs": [],
   "source": [
    "import tensorflow as tf"
   ]
  },
  {
   "cell_type": "code",
   "execution_count": 10,
   "metadata": {},
   "outputs": [
    {
     "name": "stdout",
     "output_type": "stream",
     "text": [
      "Tensor(\"Const_6:0\", shape=(), dtype=string)\n",
      "b'Hello Tensorflow!'\n"
     ]
    }
   ],
   "source": [
    "hello=tf.constant('Hello Tensorflow!')\n",
    "print(hello)\n",
    "\n",
    "sess=tf.Session()\n",
    "result=sess.run(hello)\n",
    "print(result)\n",
    "sess.close()"
   ]
  },
  {
   "cell_type": "code",
   "execution_count": 11,
   "metadata": {},
   "outputs": [],
   "source": [
    "import tensorflow as tf\n",
    "\n",
    "node1=tf.constant(3,tf.float32)\n",
    "node2=tf.constant(4.0) #타입이 같아야 계싼 가능\n",
    "node3=tf.add(node1,node2)"
   ]
  },
  {
   "cell_type": "code",
   "execution_count": 12,
   "metadata": {},
   "outputs": [
    {
     "name": "stdout",
     "output_type": "stream",
     "text": [
      "node1: Tensor(\"Const_7:0\", shape=(), dtype=float32)\n",
      "node2: Tensor(\"Const_8:0\", shape=(), dtype=float32)\n",
      "node3: Tensor(\"Add_2:0\", shape=(), dtype=float32)\n"
     ]
    }
   ],
   "source": [
    "print(\"node1:\", node1)\n",
    "print(\"node2:\", node2)\n",
    "print(\"node3:\", node3)"
   ]
  },
  {
   "cell_type": "code",
   "execution_count": 14,
   "metadata": {},
   "outputs": [
    {
     "name": "stdout",
     "output_type": "stream",
     "text": [
      "session.run([node1,node2]):  [3.0, 4.0]\n",
      "session.run([node3]):  [7.0]\n"
     ]
    }
   ],
   "source": [
    "session=tf.Session()\n",
    "print(\"session.run([node1,node2]): \", session.run([node1,node2]))\n",
    "print(\"session.run([node3]): \", session.run([node3]))\n",
    "\n",
    "session.close()"
   ]
  },
  {
   "cell_type": "code",
   "execution_count": 15,
   "metadata": {},
   "outputs": [
    {
     "name": "stdout",
     "output_type": "stream",
     "text": [
      "Tensor(\"Const_9:0\", shape=(), dtype=float32)\n",
      "()\n",
      "1.0\n"
     ]
    }
   ],
   "source": [
    "# 다른 type으로\n",
    "a=tf.constant(1,dtype=tf.float32) #스칼라 형식(0차원)\n",
    "print(a)\n",
    "print(a.shape)\n",
    "with tf.Session() as session:\n",
    "    print(session.run(a))"
   ]
  },
  {
   "cell_type": "code",
   "execution_count": 19,
   "metadata": {},
   "outputs": [
    {
     "name": "stdout",
     "output_type": "stream",
     "text": [
      "Tensor(\"Const_12:0\", shape=(1,), dtype=float32)\n",
      "(1,)\n",
      "[10.]\n"
     ]
    }
   ],
   "source": [
    "#다른 shape으로\n",
    "a=tf.constant(10,dtype=tf.float32,shape=(1,)) #벡터 형식(1차원)\n",
    "print(a)\n",
    "print(a.shape)\n",
    "with tf.Session() as session:\n",
    "    print(session.run(a))"
   ]
  },
  {
   "cell_type": "code",
   "execution_count": 20,
   "metadata": {},
   "outputs": [
    {
     "name": "stdout",
     "output_type": "stream",
     "text": [
      "Tensor(\"Const_13:0\", shape=(1, 1), dtype=float32)\n",
      "(1, 1)\n",
      "[[10.]]\n"
     ]
    }
   ],
   "source": [
    "#2차원으로 설정\n",
    "a=tf.constant(10,dtype=tf.float32,shape=(1,1)) #행렬 형식(2차원)\n",
    "print(a)\n",
    "print(a.shape)\n",
    "with tf.Session() as session:\n",
    "    print(session.run(a))"
   ]
  },
  {
   "cell_type": "markdown",
   "metadata": {},
   "source": [
    "### placeholder"
   ]
  },
  {
   "cell_type": "code",
   "execution_count": 22,
   "metadata": {},
   "outputs": [
    {
     "name": "stdout",
     "output_type": "stream",
     "text": [
      "x:  Tensor(\"Placeholder:0\", dtype=float32)\n",
      "y:  Tensor(\"mul:0\", dtype=float32)\n",
      "[2. 4. 6.]\n"
     ]
    }
   ],
   "source": [
    "import tensorflow as tf\n",
    "input_data=[1,2,3]\n",
    "x=tf.placeholder(dtype=tf.float32)\n",
    "y=x*2\n",
    "print(\"x: \",x)\n",
    "print(\"y: \",y)\n",
    "\n",
    "session=tf.Session()\n",
    "\n",
    "# feed_dict를 통해 값을 전달합니다.\n",
    "result=session.run(y,feed_dict={x:input_data})\n",
    "print(result)\n",
    "session.close()"
   ]
  },
  {
   "cell_type": "markdown",
   "metadata": {},
   "source": [
    "### Variable"
   ]
  },
  {
   "cell_type": "code",
   "execution_count": 23,
   "metadata": {},
   "outputs": [
    {
     "name": "stdout",
     "output_type": "stream",
     "text": [
      "x:  Tensor(\"Placeholder_1:0\", dtype=float32)\n",
      "weight:  <tf.Variable 'Variable:0' shape=(1,) dtype=float32_ref>\n",
      "biases:  <tf.Variable 'Variable_1:0' shape=(1,) dtype=float32_ref>\n"
     ]
    }
   ],
   "source": [
    "x=tf.placeholder(dtype=tf.float32)\n",
    "x_data=[1,2,4]\n",
    "\n",
    "# 초기값 : tf.random_normal([1,3],stdev=0.35)\n",
    "weights=tf.Variable([3],dtype=tf.float32) #초기값 무조건 줘야함\n",
    "biases=tf.Variable([4],dtype=tf.float32)\n",
    "\n",
    "y=weights*x+biases\n",
    "\n",
    "print(\"x: \", x)\n",
    "print('weight: ', weights)\n",
    "print('biases: ', biases)"
   ]
  },
  {
   "cell_type": "code",
   "execution_count": 27,
   "metadata": {},
   "outputs": [
    {
     "name": "stdout",
     "output_type": "stream",
     "text": [
      "[ 7. 10. 16.]\n",
      "[ 6.  8. 12.]\n"
     ]
    }
   ],
   "source": [
    "with tf.Session() as session:\n",
    "    #초기화 오퍼레이션을 실행(없으면 오류남)\n",
    "    session.run([weights.initializer,biases.initializer])\n",
    "    \n",
    "    result=session.run(y,feed_dict={x:x_data})\n",
    "    print(result)\n",
    "    \n",
    "    #변수 변경 // 변수 재 할당\n",
    "    session.run(tf.assign(weights, [2]))\n",
    "    \n",
    "    #다시 실행\n",
    "    result=session.run(y,feed_dict={x:x_data})\n",
    "    print(result)"
   ]
  },
  {
   "cell_type": "markdown",
   "metadata": {},
   "source": [
    "### 전체 변수 한번에 초기화 -global_variables_initializer"
   ]
  },
  {
   "cell_type": "code",
   "execution_count": 25,
   "metadata": {},
   "outputs": [
    {
     "name": "stdout",
     "output_type": "stream",
     "text": [
      "x:  Tensor(\"Placeholder_2:0\", dtype=float32)\n",
      "weight:  <tf.Variable 'Variable_2:0' shape=(1,) dtype=float32_ref>\n",
      "biases:  <tf.Variable 'Variable_3:0' shape=(1,) dtype=float32_ref>\n"
     ]
    }
   ],
   "source": [
    "x=tf.placeholder(dtype=tf.float32)\n",
    "x_data=[1,2,4]\n",
    "\n",
    "# 초기값 : tf.random_normal([1,3],stdev=0.35)\n",
    "weights=tf.Variable([3],dtype=tf.float32) #초기값 무조건 줘야함\n",
    "biases=tf.Variable([4],dtype=tf.float32)\n",
    "\n",
    "y=weights*x+biases\n",
    "\n",
    "print(\"x: \", x)\n",
    "print('weight: ', weights)\n",
    "print('biases: ', biases)"
   ]
  },
  {
   "cell_type": "code",
   "execution_count": 26,
   "metadata": {},
   "outputs": [
    {
     "name": "stdout",
     "output_type": "stream",
     "text": [
      "[ 7. 10. 16.]\n",
      "[ 6.  8. 12.]\n"
     ]
    }
   ],
   "source": [
    "#변수 초기화 작업\n",
    "init_op=tf.global_variables_initializer()\n",
    "#위의 initializer와 다름(전체 변수를 한번에 초기화)\n",
    "\n",
    "with tf.Session() as session:\n",
    "    #초기화 오퍼레이션을 실행\n",
    "    session.run(init_op)\n",
    "    \n",
    "    result=session.run(y,feed_dict={x:x_data})\n",
    "    print(result)\n",
    "    \n",
    "    #변수 변경 // 변수 재 할당\n",
    "    session.run(tf.assign(weights, [2]))\n",
    "    \n",
    "    #다시 실행\n",
    "    result=session.run(y,feed_dict={x:x_data})\n",
    "    print(result)"
   ]
  },
  {
   "cell_type": "code",
   "execution_count": 29,
   "metadata": {},
   "outputs": [
    {
     "name": "stdout",
     "output_type": "stream",
     "text": [
      "a:  Tensor(\"Const_18:0\", shape=(), dtype=int32)\n",
      "b:  Tensor(\"Const_19:0\", shape=(1,), dtype=float32)\n",
      "c:  Tensor(\"Const_20:0\", shape=(2, 2), dtype=float32)\n",
      "d:  Tensor(\"Const_21:0\", shape=(2, 2, 2), dtype=float32)\n"
     ]
    }
   ],
   "source": [
    "a=tf.constant(1) #0차원(스칼라)\n",
    "b=tf.constant([1.2],dtype=tf.float32) #1차원(벡터)\n",
    "c=tf.constant([[1,2],[3,4]],dtype=tf.float32) #2차원(행렬)\n",
    "d=tf.constant(\n",
    "    [\n",
    "        [[1.0,2.0],[3,4]],\n",
    "        [[5,6],[7,8]]\n",
    "    ]\n",
    "     ) #3차원\n",
    "print('a: ', a)\n",
    "print('b: ', b)\n",
    "print('c: ', c)\n",
    "print('d: ', d)"
   ]
  },
  {
   "cell_type": "markdown",
   "metadata": {},
   "source": [
    "### rank"
   ]
  },
  {
   "cell_type": "code",
   "execution_count": 30,
   "metadata": {},
   "outputs": [
    {
     "name": "stdout",
     "output_type": "stream",
     "text": [
      "a's rank:  0\n",
      "b's rank:  1\n",
      "c's rank:  2\n",
      "d's rank:  3\n",
      "--------------------------------------------------\n",
      "a's rank:  Tensor(\"Rank:0\", shape=(), dtype=int32)\n",
      "b's rank:  Tensor(\"Rank_1:0\", shape=(), dtype=int32)\n",
      "c's rank:  Tensor(\"Rank_2:0\", shape=(), dtype=int32)\n",
      "d's rank:  Tensor(\"Rank_3:0\", shape=(), dtype=int32)\n"
     ]
    }
   ],
   "source": [
    "print(\"a's rank: \", a._rank())\n",
    "print(\"b's rank: \", b._rank())\n",
    "print(\"c's rank: \", c._rank())\n",
    "print(\"d's rank: \", d._rank())\n",
    "\n",
    "print(\"-\"*50)\n",
    "print(\"a's rank: \", tf.rank(a))\n",
    "print(\"b's rank: \", tf.rank(b))\n",
    "print(\"c's rank: \", tf.rank(c))\n",
    "print(\"d's rank: \", tf.rank(d))"
   ]
  },
  {
   "cell_type": "markdown",
   "metadata": {},
   "source": [
    "### Shape"
   ]
  },
  {
   "cell_type": "code",
   "execution_count": 34,
   "metadata": {},
   "outputs": [
    {
     "name": "stdout",
     "output_type": "stream",
     "text": [
      "a's shape: ()\n",
      "b's shape: (1,)\n",
      "c's shape: (2, 2)\n",
      "d's shape: (2, 2, 2)\n",
      "--------------------------------------------------\n",
      "a's shape: Tensor(\"Shape_4:0\", shape=(0,), dtype=int32)\n",
      "b's shape: Tensor(\"Shape_5:0\", shape=(1,), dtype=int32)\n",
      "c's shape: Tensor(\"Shape_6:0\", shape=(2,), dtype=int32)\n",
      "d's shape: Tensor(\"Shape_7:0\", shape=(3,), dtype=int32)\n"
     ]
    }
   ],
   "source": [
    "print(\"a's shape:\", a.get_shape())\n",
    "#print(\"a's shape:\", a.shape) 와 같은 결과\n",
    "print(\"b's shape:\", b.get_shape())\n",
    "print(\"c's shape:\", c.get_shape())\n",
    "print(\"d's shape:\", d.get_shape())\n",
    "\n",
    "print(\"-\"*50)\n",
    "print(\"a's shape:\", tf.shape(a))\n",
    "print(\"b's shape:\", tf.shape(b))\n",
    "print(\"c's shape:\", tf.shape(c))\n",
    "print(\"d's shape:\", tf.shape(d))"
   ]
  },
  {
   "cell_type": "markdown",
   "metadata": {},
   "source": [
    "### dtype"
   ]
  },
  {
   "cell_type": "code",
   "execution_count": 36,
   "metadata": {},
   "outputs": [
    {
     "name": "stdout",
     "output_type": "stream",
     "text": [
      "a's dtype:  <dtype: 'int32'>\n",
      "b's dtype:  <dtype: 'float32'>\n",
      "c's dtype:  <dtype: 'float32'>\n",
      "d's dtype:  <dtype: 'float32'>\n"
     ]
    }
   ],
   "source": [
    "print(\"a's dtype: \",a.dtype)\n",
    "print(\"b's dtype: \",b.dtype)\n",
    "print(\"c's dtype: \",c.dtype)\n",
    "print(\"d's dtype: \",d.dtype)"
   ]
  },
  {
   "cell_type": "markdown",
   "metadata": {},
   "source": [
    "### Session 관리"
   ]
  },
  {
   "cell_type": "markdown",
   "metadata": {},
   "source": [
    "### tf.get_default_session()"
   ]
  },
  {
   "cell_type": "code",
   "execution_count": 38,
   "metadata": {},
   "outputs": [
    {
     "name": "stdout",
     "output_type": "stream",
     "text": [
      "None\n"
     ]
    }
   ],
   "source": [
    "session=tf.get_default_session()\n",
    "print(session)"
   ]
  },
  {
   "cell_type": "code",
   "execution_count": 39,
   "metadata": {},
   "outputs": [
    {
     "name": "stdout",
     "output_type": "stream",
     "text": [
      "<tensorflow.python.client.session.Session object at 0x000001AA56C58E48>\n"
     ]
    }
   ],
   "source": [
    "with tf.Session() as sess:\n",
    "    print(tf.get_default_session())"
   ]
  },
  {
   "cell_type": "markdown",
   "metadata": {},
   "source": [
    "### eval(), initializer.run()"
   ]
  },
  {
   "cell_type": "code",
   "execution_count": 40,
   "metadata": {},
   "outputs": [],
   "source": [
    "a=tf.constant(2, dtype=tf.float32)\n",
    "b=tf.Variable(3, dtype=tf.float32)\n",
    "c=a*b"
   ]
  },
  {
   "cell_type": "code",
   "execution_count": 43,
   "metadata": {},
   "outputs": [
    {
     "name": "stdout",
     "output_type": "stream",
     "text": [
      "None\n",
      "2.0\n",
      "6.0\n",
      "----------\n",
      "None\n",
      "2.0\n",
      "6.0\n"
     ]
    }
   ],
   "source": [
    "with tf.Session() as sess: #close 없이 자동으로 닫혀서 편리\n",
    "    print(sess.run(b.initializer))\n",
    "    print(sess.run(a))\n",
    "    print(sess.run(c))\n",
    "    \n",
    "    print('-'*10)\n",
    "    #### 똑같은 결과\n",
    "    print(b.initializer.run())\n",
    "    # tf.get_default_sesion().run(b.initializer)\n",
    "    print(a.eval())\n",
    "    print(c.eval())"
   ]
  },
  {
   "cell_type": "markdown",
   "metadata": {},
   "source": [
    "### tf.InteractiveSession"
   ]
  },
  {
   "cell_type": "code",
   "execution_count": 45,
   "metadata": {},
   "outputs": [
    {
     "name": "stdout",
     "output_type": "stream",
     "text": [
      "2.0\n",
      "6.0\n"
     ]
    }
   ],
   "source": [
    "sess=tf.InteractiveSession() \n",
    "sess.run(b.initializer)\n",
    "print(a.eval())\n",
    "print(c.eval())\n",
    "sess.close() #close 하기 전까지 값을 확인할 수 있어서 디버깅 하기 편리"
   ]
  },
  {
   "cell_type": "markdown",
   "metadata": {},
   "source": [
    "## Graph 관리하기"
   ]
  },
  {
   "cell_type": "markdown",
   "metadata": {},
   "source": [
    "### get_default_graph()"
   ]
  },
  {
   "cell_type": "code",
   "execution_count": 46,
   "metadata": {},
   "outputs": [
    {
     "data": {
      "text/plain": [
       "<tensorflow.python.framework.ops.Graph at 0x1aa56c19438>"
      ]
     },
     "execution_count": 46,
     "metadata": {},
     "output_type": "execute_result"
    }
   ],
   "source": [
    "tf.get_default_graph()"
   ]
  },
  {
   "cell_type": "code",
   "execution_count": 47,
   "metadata": {},
   "outputs": [
    {
     "data": {
      "text/plain": [
       "True"
      ]
     },
     "execution_count": 47,
     "metadata": {},
     "output_type": "execute_result"
    }
   ],
   "source": [
    "a=tf.Variable(3)\n",
    "a.graph is  tf.get_default_graph() #is의 의미= ~와 같는지 확인 하는 것"
   ]
  },
  {
   "cell_type": "markdown",
   "metadata": {},
   "source": [
    "### Graph 객체"
   ]
  },
  {
   "cell_type": "code",
   "execution_count": 50,
   "metadata": {},
   "outputs": [],
   "source": [
    "graph=tf.Graph()\n",
    "with graph.as_default():\n",
    "    b=tf.Variable(2)"
   ]
  },
  {
   "cell_type": "code",
   "execution_count": 51,
   "metadata": {},
   "outputs": [
    {
     "data": {
      "text/plain": [
       "True"
      ]
     },
     "execution_count": 51,
     "metadata": {},
     "output_type": "execute_result"
    }
   ],
   "source": [
    "b.graph is graph"
   ]
  },
  {
   "cell_type": "code",
   "execution_count": 53,
   "metadata": {},
   "outputs": [
    {
     "data": {
      "text/plain": [
       "[<tf.Operation 'Const' type=Const>,\n",
       " <tf.Operation 'Const_1' type=Const>,\n",
       " <tf.Operation 'Const_2' type=Const>,\n",
       " <tf.Operation 'Const_3' type=Const>,\n",
       " <tf.Operation 'Add' type=Add>,\n",
       " <tf.Operation 'Const_4' type=Const>,\n",
       " <tf.Operation 'Const_5' type=Const>,\n",
       " <tf.Operation 'Add_1' type=Add>,\n",
       " <tf.Operation 'Const_6' type=Const>,\n",
       " <tf.Operation 'Const_7' type=Const>,\n",
       " <tf.Operation 'Const_8' type=Const>,\n",
       " <tf.Operation 'Add_2' type=Add>,\n",
       " <tf.Operation 'Const_9' type=Const>,\n",
       " <tf.Operation 'Const_10' type=Const>,\n",
       " <tf.Operation 'Const_11' type=Const>,\n",
       " <tf.Operation 'Const_12' type=Const>,\n",
       " <tf.Operation 'Const_13' type=Const>,\n",
       " <tf.Operation 'Placeholder' type=Placeholder>,\n",
       " <tf.Operation 'mul/y' type=Const>,\n",
       " <tf.Operation 'mul' type=Mul>,\n",
       " <tf.Operation 'Placeholder_1' type=Placeholder>,\n",
       " <tf.Operation 'Variable/initial_value' type=Const>,\n",
       " <tf.Operation 'Variable' type=VariableV2>,\n",
       " <tf.Operation 'Variable/Assign' type=Assign>,\n",
       " <tf.Operation 'Variable/read' type=Identity>,\n",
       " <tf.Operation 'Variable_1/initial_value' type=Const>,\n",
       " <tf.Operation 'Variable_1' type=VariableV2>,\n",
       " <tf.Operation 'Variable_1/Assign' type=Assign>,\n",
       " <tf.Operation 'Variable_1/read' type=Identity>,\n",
       " <tf.Operation 'mul_1' type=Mul>,\n",
       " <tf.Operation 'add_3' type=Add>,\n",
       " <tf.Operation 'Assign/value' type=Const>,\n",
       " <tf.Operation 'Assign' type=Assign>,\n",
       " <tf.Operation 'Placeholder_2' type=Placeholder>,\n",
       " <tf.Operation 'Variable_2/initial_value' type=Const>,\n",
       " <tf.Operation 'Variable_2' type=VariableV2>,\n",
       " <tf.Operation 'Variable_2/Assign' type=Assign>,\n",
       " <tf.Operation 'Variable_2/read' type=Identity>,\n",
       " <tf.Operation 'Variable_3/initial_value' type=Const>,\n",
       " <tf.Operation 'Variable_3' type=VariableV2>,\n",
       " <tf.Operation 'Variable_3/Assign' type=Assign>,\n",
       " <tf.Operation 'Variable_3/read' type=Identity>,\n",
       " <tf.Operation 'mul_2' type=Mul>,\n",
       " <tf.Operation 'add_4' type=Add>,\n",
       " <tf.Operation 'init' type=NoOp>,\n",
       " <tf.Operation 'Assign_1/value' type=Const>,\n",
       " <tf.Operation 'Assign_1' type=Assign>,\n",
       " <tf.Operation 'Assign_2/value' type=Const>,\n",
       " <tf.Operation 'Assign_2' type=Assign>,\n",
       " <tf.Operation 'Const_14' type=Const>,\n",
       " <tf.Operation 'Const_15' type=Const>,\n",
       " <tf.Operation 'Const_16' type=Const>,\n",
       " <tf.Operation 'Const_17' type=Const>,\n",
       " <tf.Operation 'Const_18' type=Const>,\n",
       " <tf.Operation 'Const_19' type=Const>,\n",
       " <tf.Operation 'Const_20' type=Const>,\n",
       " <tf.Operation 'Const_21' type=Const>,\n",
       " <tf.Operation 'Rank' type=Const>,\n",
       " <tf.Operation 'Rank_1' type=Const>,\n",
       " <tf.Operation 'Rank_2' type=Const>,\n",
       " <tf.Operation 'Rank_3' type=Const>,\n",
       " <tf.Operation 'Shape' type=Const>,\n",
       " <tf.Operation 'Shape_1' type=Const>,\n",
       " <tf.Operation 'Shape_2' type=Const>,\n",
       " <tf.Operation 'Shape_3' type=Const>,\n",
       " <tf.Operation 'Shape_4' type=Const>,\n",
       " <tf.Operation 'Shape_5' type=Const>,\n",
       " <tf.Operation 'Shape_6' type=Const>,\n",
       " <tf.Operation 'Shape_7' type=Const>,\n",
       " <tf.Operation 'Const_22' type=Const>,\n",
       " <tf.Operation 'Variable_4/initial_value' type=Const>,\n",
       " <tf.Operation 'Variable_4' type=VariableV2>,\n",
       " <tf.Operation 'Variable_4/Assign' type=Assign>,\n",
       " <tf.Operation 'Variable_4/read' type=Identity>,\n",
       " <tf.Operation 'mul_3' type=Mul>,\n",
       " <tf.Operation 'Variable_5/initial_value' type=Const>,\n",
       " <tf.Operation 'Variable_5' type=VariableV2>,\n",
       " <tf.Operation 'Variable_5/Assign' type=Assign>,\n",
       " <tf.Operation 'Variable_5/read' type=Identity>]"
      ]
     },
     "execution_count": 53,
     "metadata": {},
     "output_type": "execute_result"
    }
   ],
   "source": [
    "tf.get_default_graph().get_operations()"
   ]
  },
  {
   "cell_type": "code",
   "execution_count": null,
   "metadata": {},
   "outputs": [],
   "source": []
  },
  {
   "cell_type": "code",
   "execution_count": null,
   "metadata": {},
   "outputs": [],
   "source": []
  },
  {
   "cell_type": "code",
   "execution_count": null,
   "metadata": {},
   "outputs": [],
   "source": []
  },
  {
   "cell_type": "code",
   "execution_count": null,
   "metadata": {},
   "outputs": [],
   "source": []
  },
  {
   "cell_type": "code",
   "execution_count": null,
   "metadata": {},
   "outputs": [],
   "source": []
  },
  {
   "cell_type": "code",
   "execution_count": null,
   "metadata": {},
   "outputs": [],
   "source": []
  },
  {
   "cell_type": "code",
   "execution_count": null,
   "metadata": {},
   "outputs": [],
   "source": []
  },
  {
   "cell_type": "code",
   "execution_count": null,
   "metadata": {},
   "outputs": [],
   "source": []
  },
  {
   "cell_type": "code",
   "execution_count": null,
   "metadata": {},
   "outputs": [],
   "source": []
  },
  {
   "cell_type": "code",
   "execution_count": null,
   "metadata": {},
   "outputs": [],
   "source": []
  },
  {
   "cell_type": "code",
   "execution_count": null,
   "metadata": {},
   "outputs": [],
   "source": []
  },
  {
   "cell_type": "code",
   "execution_count": null,
   "metadata": {},
   "outputs": [],
   "source": []
  },
  {
   "cell_type": "code",
   "execution_count": null,
   "metadata": {},
   "outputs": [],
   "source": []
  },
  {
   "cell_type": "code",
   "execution_count": null,
   "metadata": {},
   "outputs": [],
   "source": []
  },
  {
   "cell_type": "code",
   "execution_count": null,
   "metadata": {},
   "outputs": [],
   "source": []
  },
  {
   "cell_type": "code",
   "execution_count": null,
   "metadata": {},
   "outputs": [],
   "source": []
  }
 ],
 "metadata": {
  "kernelspec": {
   "display_name": "Python 3",
   "language": "python",
   "name": "python3"
  },
  "language_info": {
   "codemirror_mode": {
    "name": "ipython",
    "version": 3
   },
   "file_extension": ".py",
   "mimetype": "text/x-python",
   "name": "python",
   "nbconvert_exporter": "python",
   "pygments_lexer": "ipython3",
   "version": "3.6.8"
  }
 },
 "nbformat": 4,
 "nbformat_minor": 2
}
